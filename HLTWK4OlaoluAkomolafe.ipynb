{
 "cells": [
  {
   "cell_type": "markdown",
   "metadata": {},
   "source": [
    "##TASK 1\n",
    "\n",
    "Write a program that allows you to enter 4 numbers and stores them in a file called “Numbers”\n",
    "3\n",
    "45\n",
    "83\n",
    "21\n",
    "Have a go at ‘w’ ‘r’  ‘a’\n"
   ]
  },
  {
   "cell_type": "code",
   "execution_count": 144,
   "metadata": {},
   "outputs": [
    {
     "name": "stdout",
     "output_type": "stream",
     "text": [
      "89\n",
      "90\n",
      "67\n",
      "45\n",
      "\n"
     ]
    }
   ],
   "source": [
    "#Create a text file Numbers.txt if not in existence. set it to write mode \"w\"\n",
    "with open(\"Numbers.txt\",\"w\") as numbers:\n",
    "    count=0\n",
    "    while count<4:\n",
    "        input_number=int(input(f\"Enter the number {count+1}: \"))\n",
    "        numbers.write(str(input_number))\n",
    "        numbers.write('\\n')\n",
    "        count+=1\n",
    "\n",
    "numbers.close()\n",
    "\n",
    "#Read the Numbers.txt File created above and output it on the screen\n",
    "readFile=open(\"Numbers.txt\",\"r\")\n",
    "strFile=readFile.read()\n",
    "print(strFile)"
   ]
  },
  {
   "cell_type": "markdown",
   "metadata": {},
   "source": [
    "##TASK 2\n",
    "\n",
    "Write a program to ask a student for their percentage mark and convert this to a grade.\n",
    "The conversion will be done in a function called mark_grade "
   ]
  },
  {
   "cell_type": "code",
   "execution_count": 164,
   "metadata": {},
   "outputs": [
    {
     "name": "stdout",
     "output_type": "stream",
     "text": [
      "Your percentage_mark of 85 is graded: \" A \"\n"
     ]
    }
   ],
   "source": [
    "#Function to accept student percentage mark and return the grade equivalent\n",
    "def mark_grade(percentage_mark):\n",
    "    if percentage_mark >=80 and percentage_mark<=100:\n",
    "        grade=\"A\"\n",
    "    elif percentage_mark >=70 and percentage_mark<80:\n",
    "        grade=\"B\"\n",
    "    elif percentage_mark >=60 and percentage_mark<70:\n",
    "        grade=\"C\"\n",
    "    elif percentage_mark >=50 and percentage_mark<60:\n",
    "        grade=\"D\"\n",
    "    elif percentage_mark >=40 and percentage_mark<50:\n",
    "        grade=\"E\"\n",
    "    elif percentage_mark >=0 and percentage_mark<40:\n",
    "        grade=\"F\"\n",
    "    else:\n",
    "        grade=\"Percentage Mark not in range of \\\"0 - \\\"100\"\n",
    "    \n",
    "    return grade\n",
    "\n",
    "#Accept student target Grade\n",
    "target_grade=input(\"Please enter your target Grade A, B, C, D, E, F: \") #TASK 2 EXTENSION \n",
    "\n",
    "#Accept student percentage mark or exam score\n",
    "input_mark=int(input(\"Please enter your percentage mark: \"))\n",
    "\n",
    "#this send the percentage mark to the function mark_grade and the grade is returned and store it in \"grade\"\n",
    "grade=mark_grade(input_mark)\n",
    "\n",
    "#Print percentage mark and its equivalent grade\n",
    "print(f\"Your percentage_mark of {input_mark} is graded: \\\"\",grade,\"\\\"\") "
   ]
  },
  {
   "cell_type": "code",
   "execution_count": 165,
   "metadata": {},
   "outputs": [
    {
     "name": "stdout",
     "output_type": "stream",
     "text": [
      "You have performed excellently well above your set goal. \n",
      "Your Target grade was: \"  B \"\n",
      "but your Final Exam grade is: \" A \"--> 85\n"
     ]
    }
   ],
   "source": [
    "#TASK 2 EXTENSION \n",
    "#This function accept a student target grade and return the grade's numeric order\n",
    "def convert_grade_to_number(grade): \n",
    "    if grade==\"A\":\n",
    "        priority=6\n",
    "    elif grade==\"B\":\n",
    "        priority=5\n",
    "    elif grade==\"C\":\n",
    "        priority=4\n",
    "    elif grade==\"D\":\n",
    "        priority=3\n",
    "    elif grade==\"E\":\n",
    "        priority=2\n",
    "    elif grade==\"F\":\n",
    "        priority=1\n",
    "    else:\n",
    "        priority=0\n",
    "    return priority\n",
    "\n",
    "#This converts target grade and actual exam grade to numeric equivalent, then compare the the two values \n",
    "if int(convert_grade_to_number(target_grade))!=0:\n",
    "    if int(convert_grade_to_number(target_grade))>int(convert_grade_to_number(grade)):\n",
    "        print(\"Sorry, You need to put more effort next time. \\nYour Target grade was: \\\" \",target_grade,\"\\\"\\nbut your Final Exam grade is: \\\"\",grade,\"\\\"-->\",input_mark)\n",
    "    elif int(convert_grade_to_number(target_grade))==int(convert_grade_to_number(grade)):\n",
    "        print(\"You have achieved your set goal. \\nYour Target grade was: \\\" \",target_grade,\"\\\"\\nand your Final Exam grade is: \\\"\",grade,\"\\\"-->\",input_mark)\n",
    "    elif int(convert_grade_to_number(target_grade))<int(convert_grade_to_number(grade)):\n",
    "        print(\"You have performed excellently well above your set goal. \\nYour Target grade was: \\\" \",target_grade,\"\\\"\\nbut your Final Exam grade is: \\\"\",grade,\"\\\"-->\",input_mark)\n",
    "    else:\n",
    "        pass\n",
    "else:\n",
    "    print(\"Check your Target grade input! \\nYour Target grade was: \",target_grade)"
   ]
  },
  {
   "cell_type": "markdown",
   "metadata": {},
   "source": [
    "##TASK 3\n",
    "\n",
    "Create a 1D array of numbers from 0 to 9"
   ]
  },
  {
   "cell_type": "code",
   "execution_count": 166,
   "metadata": {},
   "outputs": [
    {
     "name": "stdout",
     "output_type": "stream",
     "text": [
      "[0 1 2 3 4 5 6 7 8 9]\n"
     ]
    }
   ],
   "source": [
    "\n",
    "import numpy as np\n",
    "\n",
    "#Create a 1 dimensional array that contains 0 to 9\n",
    "oneD_array=np.arange(10)\n",
    "\n",
    "print(oneD_array)"
   ]
  },
  {
   "cell_type": "markdown",
   "metadata": {},
   "source": [
    "##TASK 4\n",
    "\n",
    "Create a 3×3 NumPy array of all Boolean value Trues"
   ]
  },
  {
   "cell_type": "code",
   "execution_count": 167,
   "metadata": {},
   "outputs": [
    {
     "name": "stdout",
     "output_type": "stream",
     "text": [
      "[[ True  True  True]\n",
      " [ True  True  True]\n",
      " [ True  True  True]] \n",
      "\n",
      "[[ True  True  True]\n",
      " [ True  True  True]\n",
      " [ True  True  True]] \n",
      "\n",
      "[[ True  True  True]\n",
      " [ True  True  True]\n",
      " [ True  True  True]] \n",
      "\n"
     ]
    }
   ],
   "source": [
    "import numpy as np\n",
    "\n",
    "#created a 2 dimensional array with boolean value of TRUE\n",
    "numpy_arr4bool=np.array([True,True,True,True,True,True,True,True,True]).reshape(3,3)\n",
    "print(numpy_arr4bool,\"\\n\")\n",
    "\n",
    "#OR\n",
    "#created a 2 dimensional array with boolean value of TRUE\n",
    "numpy_arr4True=np.full((3,3),True)\n",
    "print(numpy_arr4True,\"\\n\")\n",
    "\n",
    "#OR\n",
    "#created a 2 dimensional array with boolean value of TRUE\n",
    "numpy_array4True=np.ones(9,dtype=bool)\n",
    "print(numpy_array4True.reshape(3,3),\"\\n\")\n"
   ]
  },
  {
   "cell_type": "markdown",
   "metadata": {},
   "source": [
    "##TASK 5\n",
    "\n",
    "Extract all odd numbers from array of 1-10"
   ]
  },
  {
   "cell_type": "code",
   "execution_count": 200,
   "metadata": {},
   "outputs": [
    {
     "name": "stdout",
     "output_type": "stream",
     "text": [
      "First Method:  [1 3 5 7 9]\n",
      "Second Method:  [1 3 5 7 9]\n"
     ]
    }
   ],
   "source": [
    "import numpy as np\n",
    "\n",
    "#created an array begining with 1 and increases by 2: 1, 1+2, 1+2+2, 1+2+2+2\n",
    "arr_odd=np.arange(1,10,2)\n",
    "print(\"First Method: \",arr_odd)\n",
    "\n",
    "#OR\n",
    "#created an array begining with 1 and increases by 2: 1, 1+2, 1+2+2, 1+2+2+2\n",
    "arr_odd2=np.arange(1,10)\n",
    "print(\"Second Method: \",arr_odd2[::2])"
   ]
  },
  {
   "cell_type": "markdown",
   "metadata": {},
   "source": [
    "##TASK 6\n",
    "\n",
    "Replace all odd numbers in an array of 1-10 with the value -1"
   ]
  },
  {
   "cell_type": "code",
   "execution_count": 172,
   "metadata": {},
   "outputs": [
    {
     "name": "stdout",
     "output_type": "stream",
     "text": [
      "[ 1  2  3  4  5  6  7  8  9 10]\n",
      "\n",
      "1st Method\n",
      "[-1  2 -1  4 -1  6 -1  8 -1 10]\n",
      "\n",
      "2nd Method\n",
      "[-1  2 -1  4 -1  6 -1  8 -1 10]\n",
      "\n",
      "3rd Method\n",
      "[-1  2 -1  4 -1  6 -1  8 -1 10]\n"
     ]
    }
   ],
   "source": [
    "import numpy as np\n",
    "\n",
    "#created an array of 10 numbers\n",
    "arr_odd=np.arange(1,11)\n",
    "\n",
    "print(arr_odd)\n",
    "\n",
    "print(\"\\n1st Method\")\n",
    "#loop through the list to check for odd numbers\n",
    "for i in range(len(arr_odd)):\n",
    "    if arr_odd[i]%2==1:#if remainder is 1 then the number is an odd number\n",
    "        arr_odd[i]=-1  #replace the odd number with -1\n",
    "\n",
    "print(arr_odd)\n",
    "\n",
    "#OR\n",
    "\n",
    "print(\"\\n2nd Method\")\n",
    "arr_odd2=np.arange(1,11)\n",
    "arr_odd2 [arr_odd2%2==1]=-1\n",
    "print(arr_odd2)\n",
    "\n",
    "#OR\n",
    "\n",
    "print(\"\\n3rd Method\")\n",
    "arr_odd3=np.arange(1,11)\n",
    "arr_odd3[::2]=-1 #OR arr_odd3[0::2]=-1 \n",
    "print(arr_odd3)\n"
   ]
  },
  {
   "cell_type": "markdown",
   "metadata": {},
   "source": [
    "##TASK 7\n",
    "\n",
    "Convert a 1D array to a 2D array with 2 rows"
   ]
  },
  {
   "cell_type": "code",
   "execution_count": 175,
   "metadata": {},
   "outputs": [
    {
     "name": "stdout",
     "output_type": "stream",
     "text": [
      "One dimensional Array: \n",
      " [20 21 22 23 24 25 26 27 28 29] \n",
      " converted to:\n",
      "Two dimensional Array: \n",
      " [[20 21 22 23 24]\n",
      " [25 26 27 28 29]] \n",
      "\n",
      "Two dimensional Array: \n",
      " [[20 21 22 23 24]\n",
      " [25 26 27 28 29]]\n"
     ]
    }
   ],
   "source": [
    "import numpy as np\n",
    "\n",
    "oneDim_array2=np.arange(20,30)\n",
    "print(\"One dimensional Array: \\n\",oneDim_array2,\"\\n converted to:\")\n",
    "twoDim_array2=oneDim_array2.reshape(2,5)\n",
    "print(\"Two dimensional Array: \\n\",twoDim_array2,\"\\n\")\n",
    "\n",
    "#OR\n",
    "oneDim_array3=np.arange(20,30).reshape(2,-1)\n",
    "print(\"Two dimensional Array: \\n\",oneDim_array3)"
   ]
  },
  {
   "cell_type": "markdown",
   "metadata": {},
   "source": [
    "##TASK 8\n",
    "\n",
    "Create two arrays a and b, stack these two arrays vertically use the  np.dot and np.sum to calculate totals\n"
   ]
  },
  {
   "cell_type": "code",
   "execution_count": 197,
   "metadata": {},
   "outputs": [
    {
     "name": "stdout",
     "output_type": "stream",
     "text": [
      "Array A: \n",
      " [[47 97 98 30 38]\n",
      " [52 59 82 42 32]\n",
      " [14 44 44  5 88]\n",
      " [14 14 36 55 15]\n",
      " [29 14 13 53 27]] \n",
      "\n",
      "Array B: \n",
      " [[15 50 46 98 44]\n",
      " [42 45 20 82 52]\n",
      " [38 25 11 74 18]\n",
      " [64 89 89 88 85]\n",
      " [43 66 36 17 69]] \n",
      "\n",
      "Array C: \n",
      " [[12057 14343  9218 23098 14048]\n",
      " [10438 13155  9364 20242 12610]\n",
      " [ 7834 10033  5621 10172 10193]\n",
      " [ 6331  8115  6755 10279  7702]\n",
      " [ 6070  8904  7446 10075  8606]] \n",
      "\n"
     ]
    }
   ],
   "source": [
    "import numpy as np\n",
    "\n",
    "array_A=np.random.randint(1,99,(5,5))\n",
    "array_B=np.random.randint(1,99,(5,5))\n",
    "\n",
    "print(\"Array A: \\n\",array_A,\"\\n\")\n",
    "print(\"Array B: \\n\",array_B,\"\\n\")\n",
    "\n",
    "array_C=np.dot(array_A,array_B)\n",
    "print(\"Array C: \\n\",array_C,\"\\n\")\n"
   ]
  },
  {
   "cell_type": "code",
   "execution_count": 198,
   "metadata": {},
   "outputs": [
    {
     "name": "stdout",
     "output_type": "stream",
     "text": [
      "Array SUM: \n",
      " 262709 \n",
      "\n",
      "Row SUM: \n",
      " [72764 65809 43853 39182 41101] \n",
      "\n",
      "Column SUM: \n",
      " [42730 54550 38404 73866 53159] \n",
      "\n"
     ]
    }
   ],
   "source": [
    "\n",
    "sumC=np.sum(array_C)\n",
    "print(\"Array SUM: \\n\",sumC,\"\\n\")\n",
    "\n",
    "rowsTotal=np.sum(array_C,axis=1)\n",
    "print(\"Row SUM: \\n\",rowsTotal,\"\\n\")\n",
    "\n",
    "columnsTotal=np.sum(array_C,axis=0)\n",
    "print(\"Column SUM: \\n\",columnsTotal,\"\\n\")"
   ]
  },
  {
   "cell_type": "code",
   "execution_count": 199,
   "metadata": {},
   "outputs": [
    {
     "data": {
      "text/plain": [
       "array([[47, 97, 98, 30, 38],\n",
       "       [52, 59, 82, 42, 32],\n",
       "       [14, 44, 44,  5, 88],\n",
       "       [14, 14, 36, 55, 15],\n",
       "       [29, 14, 13, 53, 27],\n",
       "       [15, 50, 46, 98, 44],\n",
       "       [42, 45, 20, 82, 52],\n",
       "       [38, 25, 11, 74, 18],\n",
       "       [64, 89, 89, 88, 85],\n",
       "       [43, 66, 36, 17, 69]])"
      ]
     },
     "execution_count": 199,
     "metadata": {},
     "output_type": "execute_result"
    }
   ],
   "source": [
    "arrayAB_stacked=np.vstack((array_A,array_B))\n",
    "arrayAB_stacked"
   ]
  },
  {
   "cell_type": "markdown",
   "metadata": {},
   "source": [
    "##TASK 9\n",
    "\n",
    "Create the following pattern without hardcoding. Use only NumPy  functions.\n",
    "array([1,1,1,2,2,2,3,3,3,1,2,3,1,2,3])"
   ]
  },
  {
   "cell_type": "code",
   "execution_count": 196,
   "metadata": {},
   "outputs": [
    {
     "name": "stdout",
     "output_type": "stream",
     "text": [
      "Arrays of ones:  [1. 1. 1.]\n",
      "Arrays of twos:  [2. 2. 2.]\n",
      "Arrays of threes:  [3. 3. 3.]\n",
      "Repeating 1,2,3:  [1 2 3 1 2 3 1 2 3]\n",
      "[1. 1. 1. 2. 2. 2. 3. 3. 3. 1. 2. 3. 1. 2. 3. 1. 2. 3.]\n"
     ]
    }
   ],
   "source": [
    "import numpy as np\n",
    "\n",
    "arrayOnes=np.ones(3)\n",
    "print(\"Arrays of ones: \",arrayOnes)\n",
    "\n",
    "arrayTwos=np.ones(3)*2\n",
    "print(\"Arrays of twos: \",arrayTwos)\n",
    "\n",
    "arrayThrees=np.ones(3)*3\n",
    "print(\"Arrays of threes: \",arrayThrees)\n",
    "\n",
    "array123=np.tile([1,2,3],3)\n",
    "print(\"Repeating 1,2,3: \",array123)\n",
    "\n",
    "allCombined=np.hstack((arrayOnes,arrayTwos,arrayThrees,array123))\n",
    "print(allCombined)"
   ]
  },
  {
   "cell_type": "markdown",
   "metadata": {},
   "source": [
    "##TASK 10\n",
    "\n",
    "In two arrays a ( 1,2,3,4,5) and b ( 4,5,6,7,8,9) – remove all repeating  items present in array b"
   ]
  },
  {
   "cell_type": "code",
   "execution_count": 186,
   "metadata": {},
   "outputs": [
    {
     "name": "stdout",
     "output_type": "stream",
     "text": [
      "Array a:  [1 2 3 4 5] \n",
      "Array b:  [6 7 8 9]\n"
     ]
    }
   ],
   "source": [
    "import numpy as np\n",
    "\n",
    "empty=[]\n",
    "firstArray=np.array([1,2,3,4,5])\n",
    "secondArray=np.array([4,5,6,7,8,9])\n",
    "\n",
    "for i in range(len(firstArray)):\n",
    "     for j in range(len(secondArray)):\n",
    "         if int(firstArray[i])==int(secondArray[j]):\n",
    "            empty.append(j) #get all the positions where item in secondArray is contained in firstArray\n",
    "\n",
    "            \n",
    "secondArray=np.delete(secondArray,empty) #delete from second array item whose positions are stored in empty\n",
    "print(\"Array a: \",firstArray, \"\\nArray b: \" , secondArray)\n",
    "\n",
    "\n",
    "#NOTE UNION can also be used...\n",
    "# list1 = np.array(list(range(1,6)))\n",
    "# list2 = np.array(list(range(4,10)))\n",
    "# list3 = np.union1d(list1, list2)\n",
    "# print(list3)\n",
    "#from3to7items= list3[2:7]\n",
    "#print(f\"items 3 to 7: {items3to7},  Total is : {np.sum(from3to7items)}\" )"
   ]
  },
  {
   "cell_type": "markdown",
   "metadata": {},
   "source": [
    "##TASK 11\n",
    "\n",
    "Get all items between 3 and 7 from a and b and sum them together"
   ]
  },
  {
   "cell_type": "code",
   "execution_count": 188,
   "metadata": {},
   "outputs": [
    {
     "name": "stdout",
     "output_type": "stream",
     "text": [
      "[1 2 3 4 5 6 7 8 9]\n",
      "Range to sum:  [3 4 5 6 7]\n",
      "Sum of the above array:  25\n"
     ]
    }
   ],
   "source": [
    "stackAandB=np.hstack((firstArray,secondArray))\n",
    "print(stackAandB)\n",
    "print(\"Range to sum: \",stackAandB[2:7])\n",
    "print(\"Sum of the above array: \",np.sum(stackAandB[2:7]))"
   ]
  }
 ],
 "metadata": {
  "interpreter": {
   "hash": "394ff26dc2947b500f5f33f026391f4bcc5035a82d37961d212cd4b25547b260"
  },
  "kernelspec": {
   "display_name": "Python 3.10.2 64-bit",
   "language": "python",
   "name": "python3"
  },
  "language_info": {
   "codemirror_mode": {
    "name": "ipython",
    "version": 3
   },
   "file_extension": ".py",
   "mimetype": "text/x-python",
   "name": "python",
   "nbconvert_exporter": "python",
   "pygments_lexer": "ipython3",
   "version": "3.10.2"
  },
  "orig_nbformat": 4
 },
 "nbformat": 4,
 "nbformat_minor": 2
}
