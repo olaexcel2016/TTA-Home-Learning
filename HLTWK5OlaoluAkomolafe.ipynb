{
 "cells": [
  {
   "cell_type": "markdown",
   "metadata": {},
   "source": [
    "# TASK 1\n",
    "\n",
    "Create a CSV file of 15 holiday destinations for a website\n",
    "1. Add in a column of destinations\n",
    "2. Add in a column that shows feedback score out of 10 for that destination\n",
    "3. Add in a column for average hotel star rating for those destinations\n",
    "4. Add in a column for number of all-inclusive hotels within each destination\n",
    "5. Add in the most visited city in each destination\n",
    "\n",
    "# QUESTIONS\n",
    "1. How many rows and columns are there in your file?\n",
    "2. Print row 3-8 ( using iloc/loc).\n",
    "3. Find the mean number of all-inclusive hotels across all destinations.\n",
    "4. Find the lowest scoring destination.\n",
    "5. Find the highest scoring destination.\n",
    "6. Find all the destinations where there are more than 9 all-inclusive hotels.\n",
    "7. Filter the data by score above 8.\n",
    "8. Filter the data score below 2 ( I need to know if these destinations should be removed or there is a problem)\n",
    "\n",
    "Extension   \n",
    "1. Is there a correlation between number of all-inclusive hotels and score?\n",
    "2. Create a data visualisation diagram to show destination and highest scores?"
   ]
  },
  {
   "cell_type": "code",
   "execution_count": 78,
   "metadata": {},
   "outputs": [
    {
     "name": "stdout",
     "output_type": "stream",
     "text": [
      "The number of rows in this file is:  15\n",
      "The number of columns in this file is:  5\n"
     ]
    }
   ],
   "source": [
    "#Question 1: How many rows and columns are there in your file?\n",
    "\n",
    "import pandas as pd\n",
    "\n",
    "holiday_destinations=pd.read_csv(\"holiday_destinations.csv\",index_col=\"ID\")\n",
    "#print(holiday_destinations.to_string())\n",
    "#print(holiday_destinations.shape)\n",
    "\n",
    "file_rows, file_columns = holiday_destinations.shape\n",
    "print(\"The number of rows in this file is: \",file_rows)\n",
    "print(\"The number of columns in this file is: \",file_columns)\n",
    "\n"
   ]
  },
  {
   "cell_type": "code",
   "execution_count": 79,
   "metadata": {},
   "outputs": [
    {
     "data": {
      "text/html": [
       "<div>\n",
       "<style scoped>\n",
       "    .dataframe tbody tr th:only-of-type {\n",
       "        vertical-align: middle;\n",
       "    }\n",
       "\n",
       "    .dataframe tbody tr th {\n",
       "        vertical-align: top;\n",
       "    }\n",
       "\n",
       "    .dataframe thead th {\n",
       "        text-align: right;\n",
       "    }\n",
       "</style>\n",
       "<table border=\"1\" class=\"dataframe\">\n",
       "  <thead>\n",
       "    <tr style=\"text-align: right;\">\n",
       "      <th></th>\n",
       "      <th>Destinations</th>\n",
       "      <th>Feedback_Over10</th>\n",
       "      <th>Average_Star_Rating</th>\n",
       "      <th>No_AllinclusiveHotel</th>\n",
       "      <th>Most_Visited_Cities</th>\n",
       "    </tr>\n",
       "    <tr>\n",
       "      <th>ID</th>\n",
       "      <th></th>\n",
       "      <th></th>\n",
       "      <th></th>\n",
       "      <th></th>\n",
       "      <th></th>\n",
       "    </tr>\n",
       "  </thead>\n",
       "  <tbody>\n",
       "    <tr>\n",
       "      <th>3</th>\n",
       "      <td>England</td>\n",
       "      <td>9</td>\n",
       "      <td>2</td>\n",
       "      <td>52</td>\n",
       "      <td>London</td>\n",
       "    </tr>\n",
       "    <tr>\n",
       "      <th>4</th>\n",
       "      <td>Thailand</td>\n",
       "      <td>8</td>\n",
       "      <td>3</td>\n",
       "      <td>40</td>\n",
       "      <td>Bangkok</td>\n",
       "    </tr>\n",
       "    <tr>\n",
       "      <th>5</th>\n",
       "      <td>China</td>\n",
       "      <td>1</td>\n",
       "      <td>1</td>\n",
       "      <td>98</td>\n",
       "      <td>Hong Kong</td>\n",
       "    </tr>\n",
       "    <tr>\n",
       "      <th>6</th>\n",
       "      <td>United Arab Emirates</td>\n",
       "      <td>6</td>\n",
       "      <td>1</td>\n",
       "      <td>14</td>\n",
       "      <td>Dubai</td>\n",
       "    </tr>\n",
       "    <tr>\n",
       "      <th>7</th>\n",
       "      <td>Italy</td>\n",
       "      <td>6</td>\n",
       "      <td>4</td>\n",
       "      <td>46</td>\n",
       "      <td>Rome</td>\n",
       "    </tr>\n",
       "    <tr>\n",
       "      <th>8</th>\n",
       "      <td>China</td>\n",
       "      <td>5</td>\n",
       "      <td>1</td>\n",
       "      <td>54</td>\n",
       "      <td>Macau</td>\n",
       "    </tr>\n",
       "  </tbody>\n",
       "</table>\n",
       "</div>"
      ],
      "text/plain": [
       "            Destinations  Feedback_Over10  Average_Star_Rating  \\\n",
       "ID                                                               \n",
       "3                England                9                    2   \n",
       "4               Thailand                8                    3   \n",
       "5                  China                1                    1   \n",
       "6   United Arab Emirates                6                    1   \n",
       "7                  Italy                6                    4   \n",
       "8                  China                5                    1   \n",
       "\n",
       "    No_AllinclusiveHotel Most_Visited_Cities  \n",
       "ID                                            \n",
       "3                     52              London  \n",
       "4                     40             Bangkok  \n",
       "5                     98           Hong Kong  \n",
       "6                     14               Dubai  \n",
       "7                     46                Rome  \n",
       "8                     54               Macau  "
      ]
     },
     "execution_count": 79,
     "metadata": {},
     "output_type": "execute_result"
    }
   ],
   "source": [
    "#Question 2: Print row 3-8 ( using iloc/loc).?\n",
    "\n",
    "#method1\n",
    "holiday_destinations.iloc[2:8]"
   ]
  },
  {
   "cell_type": "code",
   "execution_count": 80,
   "metadata": {},
   "outputs": [
    {
     "name": "stdout",
     "output_type": "stream",
     "text": [
      "            Destinations  Feedback_Over10  Average_Star_Rating  No_AllinclusiveHotel Most_Visited_Cities\n",
      "ID                                                                                                      \n",
      "3                England                9                    2                    52              London\n",
      "4               Thailand                8                    3                    40             Bangkok\n",
      "5                  China                1                    1                    98           Hong Kong\n",
      "6   United Arab Emirates                6                    1                    14               Dubai\n",
      "7                  Italy                6                    4                    46                Rome\n",
      "8                  China                5                    1                    54               Macau\n"
     ]
    }
   ],
   "source": [
    "#method2\n",
    "row3_8=holiday_destinations.iloc[2:8]\n",
    "print(row3_8.to_string())"
   ]
  },
  {
   "cell_type": "code",
   "execution_count": 81,
   "metadata": {},
   "outputs": [
    {
     "name": "stdout",
     "output_type": "stream",
     "text": [
      "The mean number of all-inclusive hotels is 37.93\n"
     ]
    }
   ],
   "source": [
    "#Question 3: Find the mean number of all-inclusive hotels across all destinations.?\n",
    "\n",
    "x=holiday_destinations.No_AllinclusiveHotel.mean()\n",
    "print(f\"The mean number of all-inclusive hotels is {x:.2f}\")"
   ]
  },
  {
   "cell_type": "code",
   "execution_count": 82,
   "metadata": {},
   "outputs": [
    {
     "data": {
      "text/plain": [
       "37.93333333333333"
      ]
     },
     "execution_count": 82,
     "metadata": {},
     "output_type": "execute_result"
    }
   ],
   "source": [
    "#OR\n",
    "holiday_destinations[\"No_AllinclusiveHotel\"].mean()"
   ]
  },
  {
   "cell_type": "code",
   "execution_count": 83,
   "metadata": {},
   "outputs": [
    {
     "data": {
      "text/html": [
       "<div>\n",
       "<style scoped>\n",
       "    .dataframe tbody tr th:only-of-type {\n",
       "        vertical-align: middle;\n",
       "    }\n",
       "\n",
       "    .dataframe tbody tr th {\n",
       "        vertical-align: top;\n",
       "    }\n",
       "\n",
       "    .dataframe thead th {\n",
       "        text-align: right;\n",
       "    }\n",
       "</style>\n",
       "<table border=\"1\" class=\"dataframe\">\n",
       "  <thead>\n",
       "    <tr style=\"text-align: right;\">\n",
       "      <th></th>\n",
       "      <th>Destinations</th>\n",
       "      <th>Feedback_Over10</th>\n",
       "    </tr>\n",
       "    <tr>\n",
       "      <th>ID</th>\n",
       "      <th></th>\n",
       "      <th></th>\n",
       "    </tr>\n",
       "  </thead>\n",
       "  <tbody>\n",
       "    <tr>\n",
       "      <th>15</th>\n",
       "      <td>Russia</td>\n",
       "      <td>0</td>\n",
       "    </tr>\n",
       "  </tbody>\n",
       "</table>\n",
       "</div>"
      ],
      "text/plain": [
       "   Destinations  Feedback_Over10\n",
       "ID                              \n",
       "15       Russia                0"
      ]
     },
     "execution_count": 83,
     "metadata": {},
     "output_type": "execute_result"
    }
   ],
   "source": [
    "#Question 4: Find the lowest scoring destination.?\n",
    "#holiday_destinations.set_index(\"Destinations\",inplace=True)\n",
    "#holiday_destinations.head()\n",
    "holiday_destinations.loc[holiday_destinations[\"Feedback_Over10\"]==holiday_destinations[\"Feedback_Over10\"].min(),[\"Destinations\",\"Feedback_Over10\"]]\n",
    "#holiday_destinations[holiday_destinations[\"Average_Star_Rating\"]==holiday_destinations[\"Average_Star_Rating\"].min()]\n"
   ]
  },
  {
   "cell_type": "code",
   "execution_count": 84,
   "metadata": {},
   "outputs": [
    {
     "data": {
      "text/html": [
       "<div>\n",
       "<style scoped>\n",
       "    .dataframe tbody tr th:only-of-type {\n",
       "        vertical-align: middle;\n",
       "    }\n",
       "\n",
       "    .dataframe tbody tr th {\n",
       "        vertical-align: top;\n",
       "    }\n",
       "\n",
       "    .dataframe thead th {\n",
       "        text-align: right;\n",
       "    }\n",
       "</style>\n",
       "<table border=\"1\" class=\"dataframe\">\n",
       "  <thead>\n",
       "    <tr style=\"text-align: right;\">\n",
       "      <th></th>\n",
       "      <th>Destinations</th>\n",
       "      <th>Feedback_Over10</th>\n",
       "    </tr>\n",
       "    <tr>\n",
       "      <th>ID</th>\n",
       "      <th></th>\n",
       "      <th></th>\n",
       "    </tr>\n",
       "  </thead>\n",
       "  <tbody>\n",
       "    <tr>\n",
       "      <th>2</th>\n",
       "      <td>USA</td>\n",
       "      <td>10</td>\n",
       "    </tr>\n",
       "    <tr>\n",
       "      <th>11</th>\n",
       "      <td>India</td>\n",
       "      <td>10</td>\n",
       "    </tr>\n",
       "  </tbody>\n",
       "</table>\n",
       "</div>"
      ],
      "text/plain": [
       "   Destinations  Feedback_Over10\n",
       "ID                              \n",
       "2           USA               10\n",
       "11        India               10"
      ]
     },
     "execution_count": 84,
     "metadata": {},
     "output_type": "execute_result"
    }
   ],
   "source": [
    "#Question 5: Find the Highest scoring destination.?\n",
    "holiday_destinations.loc[holiday_destinations[\"Feedback_Over10\"]==holiday_destinations[\"Feedback_Over10\"].max(),[\"Destinations\",\"Feedback_Over10\"]]\n",
    "#holiday_destinations[holiday_destinations[\"Average_Star_Rating\"]==holiday_destinations[\"Average_Star_Rating\"].max()]\n"
   ]
  },
  {
   "cell_type": "code",
   "execution_count": 85,
   "metadata": {},
   "outputs": [
    {
     "data": {
      "text/html": [
       "<div>\n",
       "<style scoped>\n",
       "    .dataframe tbody tr th:only-of-type {\n",
       "        vertical-align: middle;\n",
       "    }\n",
       "\n",
       "    .dataframe tbody tr th {\n",
       "        vertical-align: top;\n",
       "    }\n",
       "\n",
       "    .dataframe thead th {\n",
       "        text-align: right;\n",
       "    }\n",
       "</style>\n",
       "<table border=\"1\" class=\"dataframe\">\n",
       "  <thead>\n",
       "    <tr style=\"text-align: right;\">\n",
       "      <th></th>\n",
       "      <th>Destinations</th>\n",
       "      <th>No_AllinclusiveHotel</th>\n",
       "    </tr>\n",
       "    <tr>\n",
       "      <th>ID</th>\n",
       "      <th></th>\n",
       "      <th></th>\n",
       "    </tr>\n",
       "  </thead>\n",
       "  <tbody>\n",
       "    <tr>\n",
       "      <th>1</th>\n",
       "      <td>France</td>\n",
       "      <td>55</td>\n",
       "    </tr>\n",
       "    <tr>\n",
       "      <th>3</th>\n",
       "      <td>England</td>\n",
       "      <td>52</td>\n",
       "    </tr>\n",
       "    <tr>\n",
       "      <th>4</th>\n",
       "      <td>Thailand</td>\n",
       "      <td>40</td>\n",
       "    </tr>\n",
       "    <tr>\n",
       "      <th>5</th>\n",
       "      <td>China</td>\n",
       "      <td>98</td>\n",
       "    </tr>\n",
       "    <tr>\n",
       "      <th>6</th>\n",
       "      <td>United Arab Emirates</td>\n",
       "      <td>14</td>\n",
       "    </tr>\n",
       "    <tr>\n",
       "      <th>7</th>\n",
       "      <td>Italy</td>\n",
       "      <td>46</td>\n",
       "    </tr>\n",
       "    <tr>\n",
       "      <th>8</th>\n",
       "      <td>China</td>\n",
       "      <td>54</td>\n",
       "    </tr>\n",
       "    <tr>\n",
       "      <th>9</th>\n",
       "      <td>Turkey</td>\n",
       "      <td>44</td>\n",
       "    </tr>\n",
       "    <tr>\n",
       "      <th>11</th>\n",
       "      <td>India</td>\n",
       "      <td>49</td>\n",
       "    </tr>\n",
       "    <tr>\n",
       "      <th>12</th>\n",
       "      <td>Japan</td>\n",
       "      <td>28</td>\n",
       "    </tr>\n",
       "    <tr>\n",
       "      <th>15</th>\n",
       "      <td>Russia</td>\n",
       "      <td>72</td>\n",
       "    </tr>\n",
       "  </tbody>\n",
       "</table>\n",
       "</div>"
      ],
      "text/plain": [
       "            Destinations  No_AllinclusiveHotel\n",
       "ID                                            \n",
       "1                 France                    55\n",
       "3                England                    52\n",
       "4               Thailand                    40\n",
       "5                  China                    98\n",
       "6   United Arab Emirates                    14\n",
       "7                  Italy                    46\n",
       "8                  China                    54\n",
       "9                 Turkey                    44\n",
       "11                 India                    49\n",
       "12                 Japan                    28\n",
       "15                Russia                    72"
      ]
     },
     "execution_count": 85,
     "metadata": {},
     "output_type": "execute_result"
    }
   ],
   "source": [
    "#Question 6: Find all the destinations where there are more than 9 all-inclusive hotels.?\n",
    "\n",
    "holiday_destinations.loc[holiday_destinations[\"No_AllinclusiveHotel\"]>9,[\"Destinations\",\"No_AllinclusiveHotel\"]]"
   ]
  },
  {
   "cell_type": "code",
   "execution_count": 86,
   "metadata": {},
   "outputs": [
    {
     "data": {
      "text/html": [
       "<div>\n",
       "<style scoped>\n",
       "    .dataframe tbody tr th:only-of-type {\n",
       "        vertical-align: middle;\n",
       "    }\n",
       "\n",
       "    .dataframe tbody tr th {\n",
       "        vertical-align: top;\n",
       "    }\n",
       "\n",
       "    .dataframe thead th {\n",
       "        text-align: right;\n",
       "    }\n",
       "</style>\n",
       "<table border=\"1\" class=\"dataframe\">\n",
       "  <thead>\n",
       "    <tr style=\"text-align: right;\">\n",
       "      <th></th>\n",
       "      <th>Destinations</th>\n",
       "      <th>Feedback_Over10</th>\n",
       "      <th>Average_Star_Rating</th>\n",
       "      <th>No_AllinclusiveHotel</th>\n",
       "      <th>Most_Visited_Cities</th>\n",
       "    </tr>\n",
       "    <tr>\n",
       "      <th>ID</th>\n",
       "      <th></th>\n",
       "      <th></th>\n",
       "      <th></th>\n",
       "      <th></th>\n",
       "      <th></th>\n",
       "    </tr>\n",
       "  </thead>\n",
       "  <tbody>\n",
       "    <tr>\n",
       "      <th>1</th>\n",
       "      <td>France</td>\n",
       "      <td>9</td>\n",
       "      <td>5</td>\n",
       "      <td>55</td>\n",
       "      <td>Paris</td>\n",
       "    </tr>\n",
       "    <tr>\n",
       "      <th>3</th>\n",
       "      <td>England</td>\n",
       "      <td>9</td>\n",
       "      <td>2</td>\n",
       "      <td>52</td>\n",
       "      <td>London</td>\n",
       "    </tr>\n",
       "    <tr>\n",
       "      <th>4</th>\n",
       "      <td>Thailand</td>\n",
       "      <td>8</td>\n",
       "      <td>3</td>\n",
       "      <td>40</td>\n",
       "      <td>Bangkok</td>\n",
       "    </tr>\n",
       "    <tr>\n",
       "      <th>5</th>\n",
       "      <td>China</td>\n",
       "      <td>1</td>\n",
       "      <td>1</td>\n",
       "      <td>98</td>\n",
       "      <td>Hong Kong</td>\n",
       "    </tr>\n",
       "    <tr>\n",
       "      <th>6</th>\n",
       "      <td>United Arab Emirates</td>\n",
       "      <td>6</td>\n",
       "      <td>1</td>\n",
       "      <td>14</td>\n",
       "      <td>Dubai</td>\n",
       "    </tr>\n",
       "    <tr>\n",
       "      <th>7</th>\n",
       "      <td>Italy</td>\n",
       "      <td>6</td>\n",
       "      <td>4</td>\n",
       "      <td>46</td>\n",
       "      <td>Rome</td>\n",
       "    </tr>\n",
       "    <tr>\n",
       "      <th>8</th>\n",
       "      <td>China</td>\n",
       "      <td>5</td>\n",
       "      <td>1</td>\n",
       "      <td>54</td>\n",
       "      <td>Macau</td>\n",
       "    </tr>\n",
       "    <tr>\n",
       "      <th>9</th>\n",
       "      <td>Turkey</td>\n",
       "      <td>1</td>\n",
       "      <td>5</td>\n",
       "      <td>44</td>\n",
       "      <td>Istanbul</td>\n",
       "    </tr>\n",
       "    <tr>\n",
       "      <th>11</th>\n",
       "      <td>India</td>\n",
       "      <td>10</td>\n",
       "      <td>3</td>\n",
       "      <td>49</td>\n",
       "      <td>Delhi</td>\n",
       "    </tr>\n",
       "    <tr>\n",
       "      <th>12</th>\n",
       "      <td>Japan</td>\n",
       "      <td>6</td>\n",
       "      <td>3</td>\n",
       "      <td>28</td>\n",
       "      <td>Tokyo</td>\n",
       "    </tr>\n",
       "    <tr>\n",
       "      <th>15</th>\n",
       "      <td>Russia</td>\n",
       "      <td>0</td>\n",
       "      <td>5</td>\n",
       "      <td>72</td>\n",
       "      <td>Moscow</td>\n",
       "    </tr>\n",
       "  </tbody>\n",
       "</table>\n",
       "</div>"
      ],
      "text/plain": [
       "            Destinations  Feedback_Over10  Average_Star_Rating  \\\n",
       "ID                                                               \n",
       "1                 France                9                    5   \n",
       "3                England                9                    2   \n",
       "4               Thailand                8                    3   \n",
       "5                  China                1                    1   \n",
       "6   United Arab Emirates                6                    1   \n",
       "7                  Italy                6                    4   \n",
       "8                  China                5                    1   \n",
       "9                 Turkey                1                    5   \n",
       "11                 India               10                    3   \n",
       "12                 Japan                6                    3   \n",
       "15                Russia                0                    5   \n",
       "\n",
       "    No_AllinclusiveHotel Most_Visited_Cities  \n",
       "ID                                            \n",
       "1                     55               Paris  \n",
       "3                     52              London  \n",
       "4                     40             Bangkok  \n",
       "5                     98           Hong Kong  \n",
       "6                     14               Dubai  \n",
       "7                     46                Rome  \n",
       "8                     54               Macau  \n",
       "9                     44           Istanbul   \n",
       "11                    49               Delhi  \n",
       "12                    28               Tokyo  \n",
       "15                    72              Moscow  "
      ]
     },
     "execution_count": 86,
     "metadata": {},
     "output_type": "execute_result"
    }
   ],
   "source": [
    "holiday_destinations[holiday_destinations[\"No_AllinclusiveHotel\"]>9]"
   ]
  },
  {
   "cell_type": "code",
   "execution_count": 87,
   "metadata": {},
   "outputs": [
    {
     "data": {
      "text/html": [
       "<div>\n",
       "<style scoped>\n",
       "    .dataframe tbody tr th:only-of-type {\n",
       "        vertical-align: middle;\n",
       "    }\n",
       "\n",
       "    .dataframe tbody tr th {\n",
       "        vertical-align: top;\n",
       "    }\n",
       "\n",
       "    .dataframe thead th {\n",
       "        text-align: right;\n",
       "    }\n",
       "</style>\n",
       "<table border=\"1\" class=\"dataframe\">\n",
       "  <thead>\n",
       "    <tr style=\"text-align: right;\">\n",
       "      <th></th>\n",
       "      <th>Destinations</th>\n",
       "      <th>Feedback_Over10</th>\n",
       "      <th>Average_Star_Rating</th>\n",
       "      <th>No_AllinclusiveHotel</th>\n",
       "      <th>Most_Visited_Cities</th>\n",
       "    </tr>\n",
       "    <tr>\n",
       "      <th>ID</th>\n",
       "      <th></th>\n",
       "      <th></th>\n",
       "      <th></th>\n",
       "      <th></th>\n",
       "      <th></th>\n",
       "    </tr>\n",
       "  </thead>\n",
       "  <tbody>\n",
       "    <tr>\n",
       "      <th>1</th>\n",
       "      <td>France</td>\n",
       "      <td>9</td>\n",
       "      <td>5</td>\n",
       "      <td>55</td>\n",
       "      <td>Paris</td>\n",
       "    </tr>\n",
       "    <tr>\n",
       "      <th>2</th>\n",
       "      <td>USA</td>\n",
       "      <td>10</td>\n",
       "      <td>3</td>\n",
       "      <td>1</td>\n",
       "      <td>New York City</td>\n",
       "    </tr>\n",
       "    <tr>\n",
       "      <th>3</th>\n",
       "      <td>England</td>\n",
       "      <td>9</td>\n",
       "      <td>2</td>\n",
       "      <td>52</td>\n",
       "      <td>London</td>\n",
       "    </tr>\n",
       "    <tr>\n",
       "      <th>11</th>\n",
       "      <td>India</td>\n",
       "      <td>10</td>\n",
       "      <td>3</td>\n",
       "      <td>49</td>\n",
       "      <td>Delhi</td>\n",
       "    </tr>\n",
       "  </tbody>\n",
       "</table>\n",
       "</div>"
      ],
      "text/plain": [
       "   Destinations  Feedback_Over10  Average_Star_Rating  No_AllinclusiveHotel  \\\n",
       "ID                                                                            \n",
       "1        France                9                    5                    55   \n",
       "2           USA               10                    3                     1   \n",
       "3       England                9                    2                    52   \n",
       "11        India               10                    3                    49   \n",
       "\n",
       "   Most_Visited_Cities  \n",
       "ID                      \n",
       "1                Paris  \n",
       "2        New York City  \n",
       "3               London  \n",
       "11               Delhi  "
      ]
     },
     "execution_count": 87,
     "metadata": {},
     "output_type": "execute_result"
    }
   ],
   "source": [
    "#Question 7: Filter the data by score above 8..?\n",
    "\n",
    "holiday_destinations[holiday_destinations[\"Feedback_Over10\"]>8]"
   ]
  },
  {
   "cell_type": "code",
   "execution_count": 88,
   "metadata": {},
   "outputs": [
    {
     "data": {
      "text/html": [
       "<div>\n",
       "<style scoped>\n",
       "    .dataframe tbody tr th:only-of-type {\n",
       "        vertical-align: middle;\n",
       "    }\n",
       "\n",
       "    .dataframe tbody tr th {\n",
       "        vertical-align: top;\n",
       "    }\n",
       "\n",
       "    .dataframe thead th {\n",
       "        text-align: right;\n",
       "    }\n",
       "</style>\n",
       "<table border=\"1\" class=\"dataframe\">\n",
       "  <thead>\n",
       "    <tr style=\"text-align: right;\">\n",
       "      <th></th>\n",
       "      <th>Destinations</th>\n",
       "      <th>Feedback_Over10</th>\n",
       "      <th>Average_Star_Rating</th>\n",
       "      <th>No_AllinclusiveHotel</th>\n",
       "      <th>Most_Visited_Cities</th>\n",
       "    </tr>\n",
       "    <tr>\n",
       "      <th>ID</th>\n",
       "      <th></th>\n",
       "      <th></th>\n",
       "      <th></th>\n",
       "      <th></th>\n",
       "      <th></th>\n",
       "    </tr>\n",
       "  </thead>\n",
       "  <tbody>\n",
       "    <tr>\n",
       "      <th>5</th>\n",
       "      <td>China</td>\n",
       "      <td>1</td>\n",
       "      <td>1</td>\n",
       "      <td>98</td>\n",
       "      <td>Hong Kong</td>\n",
       "    </tr>\n",
       "    <tr>\n",
       "      <th>9</th>\n",
       "      <td>Turkey</td>\n",
       "      <td>1</td>\n",
       "      <td>5</td>\n",
       "      <td>44</td>\n",
       "      <td>Istanbul</td>\n",
       "    </tr>\n",
       "    <tr>\n",
       "      <th>14</th>\n",
       "      <td>Mexico</td>\n",
       "      <td>1</td>\n",
       "      <td>5</td>\n",
       "      <td>7</td>\n",
       "      <td>Mexico City</td>\n",
       "    </tr>\n",
       "    <tr>\n",
       "      <th>15</th>\n",
       "      <td>Russia</td>\n",
       "      <td>0</td>\n",
       "      <td>5</td>\n",
       "      <td>72</td>\n",
       "      <td>Moscow</td>\n",
       "    </tr>\n",
       "  </tbody>\n",
       "</table>\n",
       "</div>"
      ],
      "text/plain": [
       "   Destinations  Feedback_Over10  Average_Star_Rating  No_AllinclusiveHotel  \\\n",
       "ID                                                                            \n",
       "5         China                1                    1                    98   \n",
       "9        Turkey                1                    5                    44   \n",
       "14       Mexico                1                    5                     7   \n",
       "15       Russia                0                    5                    72   \n",
       "\n",
       "   Most_Visited_Cities  \n",
       "ID                      \n",
       "5            Hong Kong  \n",
       "9            Istanbul   \n",
       "14         Mexico City  \n",
       "15              Moscow  "
      ]
     },
     "execution_count": 88,
     "metadata": {},
     "output_type": "execute_result"
    }
   ],
   "source": [
    "#Question 8: Filter the data by score below 2..?\n",
    "\n",
    "holiday_destinations[holiday_destinations[\"Feedback_Over10\"]<2]"
   ]
  },
  {
   "cell_type": "code",
   "execution_count": 89,
   "metadata": {},
   "outputs": [
    {
     "data": {
      "text/html": [
       "<div>\n",
       "<style scoped>\n",
       "    .dataframe tbody tr th:only-of-type {\n",
       "        vertical-align: middle;\n",
       "    }\n",
       "\n",
       "    .dataframe tbody tr th {\n",
       "        vertical-align: top;\n",
       "    }\n",
       "\n",
       "    .dataframe thead th {\n",
       "        text-align: right;\n",
       "    }\n",
       "</style>\n",
       "<table border=\"1\" class=\"dataframe\">\n",
       "  <thead>\n",
       "    <tr style=\"text-align: right;\">\n",
       "      <th></th>\n",
       "      <th>Feedback_Over10</th>\n",
       "      <th>Average_Star_Rating</th>\n",
       "      <th>No_AllinclusiveHotel</th>\n",
       "    </tr>\n",
       "  </thead>\n",
       "  <tbody>\n",
       "    <tr>\n",
       "      <th>Feedback_Over10</th>\n",
       "      <td>1.000000</td>\n",
       "      <td>-0.210614</td>\n",
       "      <td>-0.300170</td>\n",
       "    </tr>\n",
       "    <tr>\n",
       "      <th>Average_Star_Rating</th>\n",
       "      <td>-0.210614</td>\n",
       "      <td>1.000000</td>\n",
       "      <td>-0.160723</td>\n",
       "    </tr>\n",
       "    <tr>\n",
       "      <th>No_AllinclusiveHotel</th>\n",
       "      <td>-0.300170</td>\n",
       "      <td>-0.160723</td>\n",
       "      <td>1.000000</td>\n",
       "    </tr>\n",
       "  </tbody>\n",
       "</table>\n",
       "</div>"
      ],
      "text/plain": [
       "                      Feedback_Over10  Average_Star_Rating  \\\n",
       "Feedback_Over10              1.000000            -0.210614   \n",
       "Average_Star_Rating         -0.210614             1.000000   \n",
       "No_AllinclusiveHotel        -0.300170            -0.160723   \n",
       "\n",
       "                      No_AllinclusiveHotel  \n",
       "Feedback_Over10                  -0.300170  \n",
       "Average_Star_Rating              -0.160723  \n",
       "No_AllinclusiveHotel              1.000000  "
      ]
     },
     "execution_count": 89,
     "metadata": {},
     "output_type": "execute_result"
    }
   ],
   "source": [
    "#Question 9: Is there a correlation between number of all-inclusive hotels and score? \n",
    "holiday_destinations.corr()\n",
    "\n",
    "#No there is no correlation. The data is not predictable as Correlation between \n",
    "# No_AllinclusiveHotel and Feedback_Over10 is -0.300170."
   ]
  },
  {
   "cell_type": "code",
   "execution_count": 90,
   "metadata": {},
   "outputs": [
    {
     "name": "stdout",
     "output_type": "stream",
     "text": [
      "The value: -0.30 shows a negative correlation which is outside the acceptable range\n",
      "A good correlation should should fall within this range (-0.9 to -0.6 ) and (0.6 to 0.9)\n"
     ]
    }
   ],
   "source": [
    "#Method2\n",
    "corel_result= holiday_destinations[\"No_AllinclusiveHotel\"].corr(holiday_destinations[\"Feedback_Over10\"],method=\"pearson\")\n",
    "print(f\"The value: {corel_result:.2f} shows a negative correlation which is outside the acceptable range\") \n",
    "print(\"A good correlation should should fall within this range (-0.9 to -0.6 ) and (0.6 to 0.9)\") "
   ]
  },
  {
   "cell_type": "code",
   "execution_count": 91,
   "metadata": {},
   "outputs": [
    {
     "data": {
      "text/plain": [
       "<AxesSubplot:xlabel='Destinations'>"
      ]
     },
     "execution_count": 91,
     "metadata": {},
     "output_type": "execute_result"
    },
    {
     "data": {
      "image/png": "[encoded data removed]",
      "text/plain": [
       "<Figure size 432x288 with 1 Axes>"
      ]
     },
     "metadata": {
      "needs_background": "light"
     },
     "output_type": "display_data"
    }
   ],
   "source": [
    "#Question 10: Create a data visualisation diagram to show destination and highest scores?\n",
    "df=holiday_destinations\n",
    "\n",
    "# importing pandas library\n",
    "import pandas as pd\n",
    "# import matplotlib library\n",
    "import matplotlib.pyplot as plt\n",
    "\n",
    "# plotting graph\n",
    "df.plot(x=\"Destinations\", y=[\"Feedback_Over10\"], kind=\"bar\")\n",
    "\n"
   ]
  },
  {
   "cell_type": "code",
   "execution_count": 92,
   "metadata": {},
   "outputs": [
    {
     "data": {
      "text/plain": [
       "<AxesSubplot:ylabel='Destinations'>"
      ]
     },
     "execution_count": 92,
     "metadata": {},
     "output_type": "execute_result"
    },
    {
     "data": {
      "image/png": "[encoded data removed]",
      "text/plain": [
       "<Figure size 432x288 with 1 Axes>"
      ]
     },
     "metadata": {
      "needs_background": "light"
     },
     "output_type": "display_data"
    }
   ],
   "source": [
    "holiday_destinations.plot.barh(x='Destinations', y='Feedback_Over10')"
   ]
  }
 ],
 "metadata": {
  "interpreter": {
   "hash": "394ff26dc2947b500f5f33f026391f4bcc5035a82d37961d212cd4b25547b260"
  },
  "kernelspec": {
   "display_name": "Python 3.10.2 64-bit",
   "language": "python",
   "name": "python3"
  },
  "language_info": {
   "codemirror_mode": {
    "name": "ipython",
    "version": 3
   },
   "file_extension": ".py",
   "mimetype": "text/x-python",
   "name": "python",
   "nbconvert_exporter": "python",
   "pygments_lexer": "ipython3",
   "version": "3.10.2"
  },
  "orig_nbformat": 4
 },
 "nbformat": 4,
 "nbformat_minor": 2
}
