{
 "cells": [
  {
   "cell_type": "markdown",
   "metadata": {},
   "source": [
    "Task 2\n",
    "\n",
    "As an extension to the motorbike task that costs £2000 and loses 10% of its value every year. Set up\n",
    "a function that performs the calculation by passing in parameters. Then using a loop, print the value\n",
    "of the bike every following year until it falls below £1000"
   ]
  },
  {
   "cell_type": "code",
   "execution_count": 2,
   "metadata": {},
   "outputs": [
    {
     "name": "stdout",
     "output_type": "stream",
     "text": [
      "The cost of the bike is: £ 2000.0 \n",
      "Yearly-value loss:  10.0 %\n",
      "bike cost in 1 year(s) is: £1800.0\n",
      "bike cost in 2 year(s) is: £1620.0\n",
      "bike cost in 3 year(s) is: £1458.0\n",
      "bike cost in 4 year(s) is: £1312.2\n",
      "bike cost in 5 year(s) is: £1180.98\n",
      "bike cost in 6 year(s) is: £1062.88\n",
      "bike cost in 7 year(s) is: £956.59\n",
      "\n"
     ]
    }
   ],
   "source": [
    "import math\n",
    "\n",
    "#This function accept the Bike amount and yearly-depreciation value\n",
    "def bike_new_value(amount, percent_value):\n",
    "                    \n",
    "    year_count=0\n",
    "    output=\"\"\n",
    "    print(\"The cost of the bike is: £\", amount,\"\\nYearly-value loss: \",percent_value,\"%\")\n",
    "\n",
    "    #run this part of the code provided the car amount is greater than £1000\n",
    "    while amount>=1000.0:      \n",
    "     amount=amount-amount*(percent_value/100)\n",
    "     year_count+=1\n",
    "     output+=\"bike cost in \" + str(year_count) + \" year(s) is: £\" + str(round(amount,2)) + \"\\n\"\n",
    "    return output\n",
    "    \n",
    "try:\n",
    "    #Motorbike original cost\n",
    "    bike_cost=float(input(\"Enter the cost of bike: \")) \n",
    "    #Motorbike yearly depreciation value\n",
    "    bike_value_lossYearly=float(input(\"Enter bike yearly-value loss in %: \")) \n",
    "except:\n",
    "    #print an error message if the input is not INT or FLOAT\n",
    "    print(\"Your value entry is not an Integer/Float...Try again\")\n",
    "else:\n",
    "    #This part will run if no error occur in try:\n",
    "    #Call the bike_new_value function and return result to output\n",
    "    output=bike_new_value(bike_cost,bike_value_lossYearly)\n",
    "    print(output)\n",
    "#finally:\n",
    "\n",
    "\n"
   ]
  },
  {
   "cell_type": "markdown",
   "metadata": {},
   "source": [
    "Task 3\n",
    "\n",
    "Write a program which will ask for two numbers from a user. Then offer an option menu to the user giving them a choice of maths operators. Once the user has selected which operator they wish to use, perform the calculation by using a procedure and passing parameters."
   ]
  },
  {
   "cell_type": "code",
   "execution_count": 33,
   "metadata": {},
   "outputs": [
    {
     "name": "stdout",
     "output_type": "stream",
     "text": [
      "Welcome to my simple calculator that performs calculation only on TWO NUMBERS.\n",
      "Select your operator: +, -, *, /, ^, % or type \"all\" or \"ALL\" to display for all operators\n",
      "Your two numbers are:  25.0  and  4.0 . Selected operator: \" all \"\n",
      "25.0  +  4.0  = 29.0\n",
      "25.0  -  4.0  = 21.0\n",
      "25.0  *  4.0  = 100.0\n",
      "25.0  /  4.0  = 6.2\n",
      "25.0  //  4.0  = 6.0\n",
      "25.0  %  4.0  = 1.0\n",
      "25.0  ^  4.0  = 390625.0\n"
     ]
    }
   ],
   "source": [
    "import math\n",
    "\n",
    "#Function mini_calculator accept three(3) parameters and performed the required mathematical operation.\n",
    "def mini_calculator(num1, num2, operator):\n",
    "\n",
    "    print(\"Your two numbers are: \",num1,\" and \",num2,\". Selected operator: \\\"\",operator,\"\\\"\")\n",
    "\n",
    "    if operator==\"+\":\n",
    "        print(num1,\" + \",num2,\" =\",round(num1+num2,1))\n",
    "    elif operator==\"-\":\n",
    "        print(num1,\" - \",num2,\" =\",round(num1-num2,1))\n",
    "    elif operator==\"*\":\n",
    "        print(num1,\" * \",num2,\" =\",round(num1*num2,1))\n",
    "    elif operator==\"/\":\n",
    "        print(num1,\" / \",num2,\" =\",round(num1/num2,1))\n",
    "    elif operator==\"//\":\n",
    "        print(num1,\" // \",num2,\" =\",round(num1//num2,1))\n",
    "    elif operator==\"%\":\n",
    "        print(num1,\" % \",num2,\" =\",num1%num2)\n",
    "    elif operator==\"^\":\n",
    "        print(num1,\" ^ \",num2,\" =\",round(num1**num2,1))\n",
    "    elif operator==\"all\" or operator==\"ALL\":\n",
    "        print(num1,\" + \",num2,\" =\",round(num1+num2,1))\n",
    "        print(num1,\" - \",num2,\" =\",round(num1-num2,1))\n",
    "        print(num1,\" * \",num2,\" =\",round(num1*num2,1))\n",
    "        print(num1,\" / \",num2,\" =\",round(num1/num2,1))\n",
    "        print(num1,\" // \",num2,\" =\",round(num1//num2,1))\n",
    "        print(num1,\" % \",num2,\" =\",num1%num2)\n",
    "        print(num1,\" ^ \",num2,\" =\",round(num1**num2,1))\n",
    "    else:\n",
    "        print(\"The selected operator is not a mathematical operator. Try again\")\n",
    "\n",
    "\n",
    "print(\"Welcome to my simple calculator that performs calculation only on TWO NUMBERS.\")\n",
    "\n",
    "try:\n",
    "    #Accept first number\n",
    "    first_number=float(input(\"Enter the first number: \"))\n",
    "    #Accept second number\n",
    "    second_number=float(input(\"Enter the second number: \"))\n",
    "    print(\"Select your operator: +, -, *, /, ^, % or type \\\"all\\\" or \\\"ALL\\\" to display for all operators\")\n",
    "except:\n",
    "    #If a user enter non-integer, this line gets executed\n",
    "    print(\"Only numbers are allowed... Try again\")\n",
    "else:\n",
    "    #If no error was generated in try: then this line gets executed\n",
    "    selected_operator=input(\"Type in your selected operation based on the OPERATION MENU provided\")\n",
    "    #Call the mini_calculator and pass three(3) parameters (Two numbers and an operator)\n",
    "    mini_calculator(first_number, second_number, selected_operator)\n"
   ]
  }
 ],
 "metadata": {
  "interpreter": {
   "hash": "394ff26dc2947b500f5f33f026391f4bcc5035a82d37961d212cd4b25547b260"
  },
  "kernelspec": {
   "display_name": "Python 3.10.2 64-bit",
   "language": "python",
   "name": "python3"
  },
  "language_info": {
   "codemirror_mode": {
    "name": "ipython",
    "version": 3
   },
   "file_extension": ".py",
   "mimetype": "text/x-python",
   "name": "python",
   "nbconvert_exporter": "python",
   "pygments_lexer": "ipython3",
   "version": "3.10.2"
  },
  "orig_nbformat": 4
 },
 "nbformat": 4,
 "nbformat_minor": 2
}
