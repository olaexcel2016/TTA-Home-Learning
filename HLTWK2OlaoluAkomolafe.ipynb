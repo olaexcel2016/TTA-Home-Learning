{
 "cells": [
  {
   "cell_type": "markdown",
   "metadata": {},
   "source": [
    "TASK 1\n",
    "\n",
    "Write a program that does the following:\n",
    "a) Stores a random number (1-10) in a variable "
   ]
  },
  {
   "cell_type": "code",
   "execution_count": 17,
   "metadata": {},
   "outputs": [
    {
     "name": "stdout",
     "output_type": "stream",
     "text": [
      "Random number generated between 1 - 10 is:  3\n"
     ]
    }
   ],
   "source": [
    "import random\n",
    "\n",
    "rand_var = random.randint(1,10)\n",
    "\n",
    "print(\"Random number generated between 1 - 10 is: \",rand_var)"
   ]
  },
  {
   "cell_type": "markdown",
   "metadata": {},
   "source": [
    "Write a program that does the following:\n",
    "b) Asks a user for their name and stores this in a variable"
   ]
  },
  {
   "cell_type": "code",
   "execution_count": 18,
   "metadata": {},
   "outputs": [
    {
     "name": "stdout",
     "output_type": "stream",
     "text": [
      "Welcome  Olaolu Akomolafe\n"
     ]
    }
   ],
   "source": [
    "user_name = input (\"What is your name? \")\n",
    "\n",
    "print(\"Welcome \", user_name)"
   ]
  },
  {
   "cell_type": "markdown",
   "metadata": {},
   "source": [
    "Write a program that does the following:\n",
    "c) Asks a user to guess the number between 1 and 10.\n",
    "d) Tells the user whether they have guessed correctly."
   ]
  },
  {
   "cell_type": "code",
   "execution_count": 20,
   "metadata": {},
   "outputs": [
    {
     "name": "stdout",
     "output_type": "stream",
     "text": [
      "Welcome Olaolu can you guess a number between 1 and 10?\n",
      "You typed: 6\n",
      "The hidden number is: 7\n",
      "Olaolu ,Your guessed value is wrong, better luck next time!\n"
     ]
    }
   ],
   "source": [
    "import random\n",
    "\n",
    "#c) Asks a user to guess the number between 1 and 10.\n",
    "user_name = input(\"What is your name ? \")\n",
    "print(\"Welcome\",user_name, \"can you guess a number between 1 and 10?\")\n",
    "guess_value= int(input(\"Type guessed value: \"))\n",
    "rand_number = random.randint(1,10)\n",
    "\n",
    "#d) Tells the user whether they have guessed correctly.\n",
    "print(\"You typed:\",guess_value)\n",
    "print(\"The hidden number is:\",rand_number)\n",
    "\n",
    "if guess_value==rand_number:\n",
    "    print(user_name,\",You have guessed correctly!\")\n",
    "else:\n",
    "    print(user_name,\",Your guessed value is wrong, better luck next time!\")"
   ]
  },
  {
   "cell_type": "markdown",
   "metadata": {},
   "source": [
    "TASK 2:\n",
    " \n",
    "Write a program that asks a user for their favourite number between 1 and 100 and then tells them a joke based on the number. You should use a minimum of 3 jokes.  "
   ]
  },
  {
   "cell_type": "code",
   "execution_count": 22,
   "metadata": {},
   "outputs": [
    {
     "name": "stdout",
     "output_type": "stream",
     "text": [
      "Welcome Olaolu Whats your favourite number between 1 and 100 to get a joke: \n",
      "Olaolu , this is the joke for your favourite number  67 :\n",
      " Q: What starts with E, ends with E, and has only 1 letter in it? \n",
      " A: Envelope.\n"
     ]
    }
   ],
   "source": [
    "user_name = input(\"What is your name ? \")\n",
    "print(\"Welcome\",user_name, \"Whats your favourite number between 1 and 100 to get a joke: \")\n",
    "favourite_number= int(input(\"Type in favourite number (1-100): \"))\n",
    "\n",
    "if favourite_number>=1 and favourite_number<=10:\n",
    "    print(user_name,\", this is the joke for your favourite number \",favourite_number,\":\\n My friend thinks he is smart. He told me an onion is the only food that makes you cry,\\n so I threw a coconut at his face. \")\n",
    "elif favourite_number>=11 and favourite_number<=20:\n",
    "    print(user_name,\", this is the joke for your favourite number \",favourite_number,\":\\n What happens to a frog's car when it breaks down? \\n It gets toad away.\")\n",
    "elif favourite_number>=21 and favourite_number<=30:\n",
    "    print(user_name,\", this is the joke for your favourite number \",favourite_number,\":\\n Q: Is Google male or female?\\n A: Female, because it doesn't let you finish a sentence before making a suggestion.\")\n",
    "elif favourite_number>=31 and favourite_number<=40:\n",
    "    print(user_name,\", this is the joke for your favourite number \",favourite_number,\":\\n A teacher asked her students to use the word \"\"beans\"\" in a sentence\\n My father grows beans, said one girl.\\n My mother cooks beans, said a boy. \\n A third student spoke up, We are all human beans.\")\n",
    "elif favourite_number>=41 and favourite_number<=50:\n",
    "    print(user_name,\", this is the joke for your favourite number \",favourite_number,\":\\n Q: Why couldn't the leopard play hide and seek? \\n A: Because he was always spotted.\")\n",
    "elif favourite_number>=51 and favourite_number<=60:\n",
    "    print(user_name,\", this is the joke for your favourite number \",favourite_number,\":\\n Q: Can a kangaroo jump higher than the Empire State Building? \\n A: Of course. The Empire State Building can't jump.\")\n",
    "elif favourite_number>=61 and favourite_number<=70:\n",
    "    print(user_name,\", this is the joke for your favourite number \",favourite_number,\":\\n Q: What starts with E, ends with E, and has only 1 letter in it? \\n A: Envelope.\")\n",
    "elif favourite_number>=71 and favourite_number<=80:\n",
    "    print(user_name,\", this is the joke for your favourite number \",favourite_number,\":\\n Math Teacher: If I have 5 bottles in one hand and 6 in the other hand, what do I have? \\n Student: A drinking problem.\")\n",
    "elif favourite_number>=81 and favourite_number<=90:\n",
    "    print(user_name,\", this is the joke for your favourite number \",favourite_number,\":\\n Q: Why did Adele cross the road? \\n A: To sing, Hello from the other side!\")\n",
    "elif favourite_number>=91 and favourite_number<=100:\n",
    "    print(user_name,\", this is the joke for your favourite number \",favourite_number,\":\\n A mom texts, Hi! Son, what does \\\"IDK\\\", \\\"LY\\\", & \\\"TTYL\\\" mean?\\n He texts back,\\n I Don't Know, Love You, & Talk To You Later.\\n The mom texts him, It's ok, don't worry about it. I'll ask your sister, love you too.\")\n",
    "else:\n",
    "    print(user_name, \"Your favourite number is not within \\\"1-100\\\"\")"
   ]
  },
  {
   "cell_type": "markdown",
   "metadata": {},
   "source": [
    "TASK 3\n",
    "\n",
    "Write a program that allows user to enter their favourite starter, main course, dessert and drink.\n",
    "Concatenate these and output a message which says – “Your favourite meal is  ………with a glass of….”\n"
   ]
  },
  {
   "cell_type": "code",
   "execution_count": 23,
   "metadata": {},
   "outputs": [
    {
     "name": "stdout",
     "output_type": "stream",
     "text": [
      "Welcome to our Restaurant.\n",
      " This is our self-service App, Kindly place your order for:\n",
      " Your favourite Starter, Main Course, Dessert and Drink \n",
      " Your favourite starter is Sweetcorn pancakes with avocado salad ,favourite main course is Grilled Pizza ,favourite dessert is Apple Pie with a glass of Martinis\n"
     ]
    }
   ],
   "source": [
    "print(\"Welcome to our Restaurant.\\n This is our self-service App, Kindly place your order for:\\n Your favourite Starter, Main Course, Dessert and Drink \")\n",
    "customer_starter=input(\"Your favourite Starter? \")\n",
    "customer_main_course=input(\"Your favourite Main Course? \")\n",
    "customer_dessert=input(\"Your favourite Dessert? \")\n",
    "customer_drink=input(\"Your favourite Drink? \")\n",
    "\n",
    "print(\" Your favourite starter is \" + customer_starter + \" ,favourite main course is \" + customer_main_course +\" ,favourite dessert is \" + customer_dessert + \" with a glass of \" + customer_drink)"
   ]
  },
  {
   "cell_type": "markdown",
   "metadata": {},
   "source": [
    "Task 4\n",
    "\n",
    "A motorbike costs £2000 and loses 10% of its value every year. Using a loop, print the value of the bike every following year until it falls below £1000."
   ]
  },
  {
   "cell_type": "code",
   "execution_count": 24,
   "metadata": {},
   "outputs": [
    {
     "name": "stdout",
     "output_type": "stream",
     "text": [
      "The cost of the bike is:  2000.0\n",
      "Yearly-value loss:  10.0 %\n",
      "bike cost in  1 year(s) is:  1800.0\n",
      "bike cost in  2 year(s) is:  1620.0\n",
      "bike cost in  3 year(s) is:  1458.0\n",
      "bike cost in  4 year(s) is:  1312.2\n",
      "bike cost in  5 year(s) is:  1180.98\n",
      "bike cost in  6 year(s) is:  1062.88\n",
      "bike cost in  7 year(s) is:  956.59\n"
     ]
    }
   ],
   "source": [
    "import math\n",
    "\n",
    "bike_cost=float(input(\"Enter the cost of bike: \"))\n",
    "bike_value_lossYearly=float(input(\"Enter bike yearly-value loss in %: \"))\n",
    "\n",
    "print(\"The cost of the bike is: \", bike_cost)\n",
    "print(\"Yearly-value loss: \",bike_value_lossYearly,\"%\")\n",
    "i=bike_cost\n",
    "year_count=0\n",
    "\n",
    "while i>=1000.0:\n",
    "    year_count+=1        \n",
    "    i=i-i*0.1\n",
    "    print(\"bike cost in \" , year_count , \"year(s) is: \" , round(i,2))"
   ]
  },
  {
   "cell_type": "markdown",
   "metadata": {},
   "source": [
    "Task 5\n",
    "\n",
    "Write a program which will ask for two numbers from a user. \n",
    "Then offer a menu to the user giving them a choice of operator: \n",
    "          e.g. – Enter “a” if you want to add\n",
    "                       “b” if you want to subtract\n",
    " Include +, -, /, *, ** square (to the power of). Once the user has selected which operator they wish to use, perform the calculation."
   ]
  },
  {
   "cell_type": "code",
   "execution_count": 29,
   "metadata": {},
   "outputs": [
    {
     "name": "stdout",
     "output_type": "stream",
     "text": [
      "Welcome to my simple calculator that performs calculation only on TWO NUMBERS.\n",
      "You have entered: \n",
      "First number--> 10.0 \n",
      "Second number:--> 3.0\n",
      "Below are the operations that can be performed on your two numbers. Select your choice carefully.\n",
      " For Addition (+) type a or A \n",
      " For Substraction (-) type b or B \n",
      " For Division (/) type c or C \n",
      " For Multiplication (*) type d or D \n",
      " For Square(to the power of) (^) type e or E \n",
      " For All Operations(+, -, *, /, ^) type all or ALL\n",
      "Your entry:  ALL -->You have selected ALL OPERATIONS: +, -, /, * and ^ \n",
      "10.0 + 3.0 =  13.0\n",
      "10.0 - 3.0 =  7.0\n",
      "10.0 / 3.0 =  3.33\n",
      "10.0 * 3.0 =  30.0\n",
      "10.0 ^ 3.0 =  1000.0\n"
     ]
    }
   ],
   "source": [
    "import math\n",
    "\n",
    "print(\"Welcome to my simple calculator that performs calculation only on TWO NUMBERS.\")\n",
    "\n",
    "first_number=float(input(\"Enter the first number: \"))\n",
    "second_number=float(input(\"Enter the second number: \"))\n",
    "\n",
    "print(\"You have entered: \\nFirst number-->\",first_number,\"\\nSecond number:-->\",second_number)\n",
    "print(\"Below are the operations that can be performed on your two numbers. Select your choice carefully.\")\n",
    "print(\" For Addition (+) type a or A \\n For Substraction (-) type b or B \\n For Division (/) type c or C \\n For Multiplication (*) type d or D \\n For Square(to the power of) (^) type e or E \\n For All Operations(+, -, *, /, ^) type all or ALL\")\n",
    "\n",
    "selected_operator=input(\"Type in your selected operation based on the OPERATION MENU provided\")\n",
    "\n",
    "if selected_operator==\"a\" or selected_operator==\"A\":\n",
    "    print(\"Your entry: \",selected_operator,\"-->You have selected ADDITION(+)\\n \",first_number,\"+\",second_number,\"= \",first_number + second_number)\n",
    "elif selected_operator==\"b\" or selected_operator==\"B\":\n",
    "    print(\"Your entry: \",selected_operator,\"-->You have selected SUBSTRACTION(-)\\n \",first_number,\"-\",second_number,\"= \",first_number - second_number)\n",
    "elif selected_operator==\"c\" or selected_operator==\"C\":\n",
    "    print(\"Your entry: \",selected_operator,\"-->You have selected DIVISION(/)\\n \",first_number,\"/\",second_number,\"= \",first_number / second_number)\n",
    "elif selected_operator==\"d\" or selected_operator==\"D\":\n",
    "    print(\"Your entry: \",selected_operator,\"-->You have selected MULTIPLICATION(*)\\n \",first_number,\"*\",second_number,\"= \",first_number * second_number)\n",
    "elif selected_operator==\"e\" or selected_operator==\"E\":\n",
    "    print(\"Your entry: \",selected_operator,\"-->You have selected SQUARE to the power of(^)\\n \",first_number,\"^\",second_number,\"= \",first_number ** second_number)\n",
    "elif selected_operator==\"all\" or selected_operator==\"ALL\":\n",
    "    print(\"Your entry: \",selected_operator,\"-->You have selected ALL OPERATIONS: +, -, /, * and ^ \")\n",
    "    print(first_number,\"+\",second_number,\"= \",first_number + second_number)\n",
    "    print(first_number,\"-\",second_number,\"= \",first_number - second_number)\n",
    "    print(first_number,\"/\",second_number,\"= \",round(first_number / second_number,2))\n",
    "    print(first_number,\"*\",second_number,\"= \",first_number * second_number)\n",
    "    print(first_number,\"^\",second_number,\"= \",first_number ** second_number)\n",
    "else:\n",
    "    print(\"Your entry \\\"\",selected_operator,\"\\\"is not in our OPERATORS MENU, please check MENU again. \\n Thanks.\")\n"
   ]
  }
 ],
 "metadata": {
  "interpreter": {
   "hash": "394ff26dc2947b500f5f33f026391f4bcc5035a82d37961d212cd4b25547b260"
  },
  "kernelspec": {
   "display_name": "Python 3.10.2 64-bit",
   "language": "python",
   "name": "python3"
  },
  "language_info": {
   "codemirror_mode": {
    "name": "ipython",
    "version": 3
   },
   "file_extension": ".py",
   "mimetype": "text/x-python",
   "name": "python",
   "nbconvert_exporter": "python",
   "pygments_lexer": "ipython3",
   "version": "3.10.2"
  },
  "orig_nbformat": 4
 },
 "nbformat": 4,
 "nbformat_minor": 2
}
